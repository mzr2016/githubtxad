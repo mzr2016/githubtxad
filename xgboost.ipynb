{
 "cells": [
  {
   "cell_type": "code",
   "execution_count": null,
   "metadata": {
    "collapsed": true
   },
   "outputs": [],
   "source": [
    "import numpy as np\n",
    "import pandas as pd\n",
    "import xgboost as xgb\n",
    "\n",
    "# read  data\n",
    "dtrain=xgb.DMatrix(r\"F:\\txadcompetition\\data\\data\\filter_count_train_combine.txt\")\n",
    "dtest=xgb.DMatrix(r\"F:\\txadcompetition\\data\\data\\filter_count_final_combine.txt\")"
   ]
  },
  {
   "cell_type": "code",
   "execution_count": null,
   "metadata": {
    "collapsed": true
   },
   "outputs": [],
   "source": [
    "#train\n",
    "param = {'n_estimators': 100,'max_depth':3, 'eta':0.1, 'silent':1,'min_child_weight': 5, 'objective':'binary:logistic','subsample':1,'colsample_bytree': 0.75,'eval_metric':'logloss','seed': 2017,'nthread':3}\n",
    "num_round=500\n",
    "bst = xgb.train(param, dtrain, num_round)"
   ]
  },
  {
   "cell_type": "code",
   "execution_count": null,
   "metadata": {
    "collapsed": true
   },
   "outputs": [],
   "source": [
    "#preds\n",
    "preds = bst.predict(dtest)\n",
    "print(preds.mean())"
   ]
  },
  {
   "cell_type": "code",
   "execution_count": null,
   "metadata": {
    "collapsed": true
   },
   "outputs": [],
   "source": [
    "# submission\n",
    "dfinstance=pd.read_csv(\"%s/test.csv\"%data_root)\n",
    "df = pd.DataFrame({\"instanceID\": dfinstance[\"instanceID\"].values, \"proba\": preds})\n",
    "df.to_csv(\"F:/txadcompetition/data/ans/submission.csv\", index=False)"
   ]
  }
 ],
 "metadata": {
  "kernelspec": {
   "display_name": "Python 3",
   "language": "python",
   "name": "python3"
  },
  "language_info": {
   "codemirror_mode": {
    "name": "ipython",
    "version": 3
   },
   "file_extension": ".py",
   "mimetype": "text/x-python",
   "name": "python",
   "nbconvert_exporter": "python",
   "pygments_lexer": "ipython3",
   "version": "3.6.0"
  }
 },
 "nbformat": 4,
 "nbformat_minor": 2
}
